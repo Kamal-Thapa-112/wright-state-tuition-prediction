{
 "cells": [
  {
   "cell_type": "markdown",
   "id": "cbb39e98-95d5-4660-aceb-f8a084c2e5ef",
   "metadata": {},
   "source": [
    "**In this project we will use simple linear regression model to predict the tutions of wright state university for the coming year 2025/2026**"
   ]
  },
  {
   "cell_type": "code",
   "execution_count": 13,
   "id": "1be36ab2-39f2-40d0-a93b-884aaf400f5d",
   "metadata": {},
   "outputs": [],
   "source": [
    "import pandas as pd\n",
    "import numpy as np\n",
    "import matplotlib.pyplot as plt\n",
    "import seaborn as sns\n",
    "from sklearn.linear_model import LinearRegression"
   ]
  },
  {
   "cell_type": "code",
   "execution_count": 14,
   "id": "af0d9743-9dc5-48e9-a598-ed4b41792d24",
   "metadata": {},
   "outputs": [
    {
     "data": {
      "text/html": [
       "<div>\n",
       "<style scoped>\n",
       "    .dataframe tbody tr th:only-of-type {\n",
       "        vertical-align: middle;\n",
       "    }\n",
       "\n",
       "    .dataframe tbody tr th {\n",
       "        vertical-align: top;\n",
       "    }\n",
       "\n",
       "    .dataframe thead th {\n",
       "        text-align: right;\n",
       "    }\n",
       "</style>\n",
       "<table border=\"1\" class=\"dataframe\">\n",
       "  <thead>\n",
       "    <tr style=\"text-align: right;\">\n",
       "      <th></th>\n",
       "      <th>Academic Year</th>\n",
       "      <th>In-State Tuition</th>\n",
       "      <th>Out-of-State Tuition</th>\n",
       "    </tr>\n",
       "  </thead>\n",
       "  <tbody>\n",
       "    <tr>\n",
       "      <th>0</th>\n",
       "      <td>2014–15</td>\n",
       "      <td>8730</td>\n",
       "      <td>16910</td>\n",
       "    </tr>\n",
       "    <tr>\n",
       "      <th>1</th>\n",
       "      <td>2015–16</td>\n",
       "      <td>8730</td>\n",
       "      <td>17098</td>\n",
       "    </tr>\n",
       "    <tr>\n",
       "      <th>2</th>\n",
       "      <td>2016–17</td>\n",
       "      <td>8730</td>\n",
       "      <td>17350</td>\n",
       "    </tr>\n",
       "    <tr>\n",
       "      <th>3</th>\n",
       "      <td>2017–18</td>\n",
       "      <td>8730</td>\n",
       "      <td>17608</td>\n",
       "    </tr>\n",
       "    <tr>\n",
       "      <th>4</th>\n",
       "      <td>2018–19</td>\n",
       "      <td>8861</td>\n",
       "      <td>18005</td>\n",
       "    </tr>\n",
       "    <tr>\n",
       "      <th>5</th>\n",
       "      <td>2019–20</td>\n",
       "      <td>9073</td>\n",
       "      <td>18286</td>\n",
       "    </tr>\n",
       "    <tr>\n",
       "      <th>6</th>\n",
       "      <td>2020–21</td>\n",
       "      <td>9519</td>\n",
       "      <td>18937</td>\n",
       "    </tr>\n",
       "    <tr>\n",
       "      <th>7</th>\n",
       "      <td>2021–22</td>\n",
       "      <td>9834</td>\n",
       "      <td>19252</td>\n",
       "    </tr>\n",
       "    <tr>\n",
       "      <th>8</th>\n",
       "      <td>2022–23</td>\n",
       "      <td>10224</td>\n",
       "      <td>19642</td>\n",
       "    </tr>\n",
       "    <tr>\n",
       "      <th>9</th>\n",
       "      <td>2023–24</td>\n",
       "      <td>11188</td>\n",
       "      <td>20606</td>\n",
       "    </tr>\n",
       "  </tbody>\n",
       "</table>\n",
       "</div>"
      ],
      "text/plain": [
       "  Academic Year  In-State Tuition  Out-of-State Tuition\n",
       "0       2014–15              8730                 16910\n",
       "1       2015–16              8730                 17098\n",
       "2       2016–17              8730                 17350\n",
       "3       2017–18              8730                 17608\n",
       "4       2018–19              8861                 18005\n",
       "5       2019–20              9073                 18286\n",
       "6       2020–21              9519                 18937\n",
       "7       2021–22              9834                 19252\n",
       "8       2022–23             10224                 19642\n",
       "9       2023–24             11188                 20606"
      ]
     },
     "execution_count": 14,
     "metadata": {},
     "output_type": "execute_result"
    }
   ],
   "source": [
    "file='C:\\\\Users\\\\Kanchan Thapa\\\\Desktop\\\\data_science\\\\EDA\\\\practice\\\\wright_ml.csv'\n",
    "df=pd.read_csv(file)\n",
    "df"
   ]
  },
  {
   "cell_type": "code",
   "execution_count": 29,
   "id": "99bd357c-2b1d-4356-9f43-cdf350092cbc",
   "metadata": {},
   "outputs": [
    {
     "data": {
      "text/html": [
       "<div>\n",
       "<style scoped>\n",
       "    .dataframe tbody tr th:only-of-type {\n",
       "        vertical-align: middle;\n",
       "    }\n",
       "\n",
       "    .dataframe tbody tr th {\n",
       "        vertical-align: top;\n",
       "    }\n",
       "\n",
       "    .dataframe thead th {\n",
       "        text-align: right;\n",
       "    }\n",
       "</style>\n",
       "<table border=\"1\" class=\"dataframe\">\n",
       "  <thead>\n",
       "    <tr style=\"text-align: right;\">\n",
       "      <th></th>\n",
       "      <th>Academic Year</th>\n",
       "      <th>In-State Tuition</th>\n",
       "      <th>Out-of-State Tuition</th>\n",
       "      <th>Year</th>\n",
       "    </tr>\n",
       "  </thead>\n",
       "  <tbody>\n",
       "    <tr>\n",
       "      <th>0</th>\n",
       "      <td>2014–15</td>\n",
       "      <td>8730</td>\n",
       "      <td>16910</td>\n",
       "      <td>2014</td>\n",
       "    </tr>\n",
       "    <tr>\n",
       "      <th>1</th>\n",
       "      <td>2015–16</td>\n",
       "      <td>8730</td>\n",
       "      <td>17098</td>\n",
       "      <td>2015</td>\n",
       "    </tr>\n",
       "    <tr>\n",
       "      <th>2</th>\n",
       "      <td>2016–17</td>\n",
       "      <td>8730</td>\n",
       "      <td>17350</td>\n",
       "      <td>2016</td>\n",
       "    </tr>\n",
       "    <tr>\n",
       "      <th>3</th>\n",
       "      <td>2017–18</td>\n",
       "      <td>8730</td>\n",
       "      <td>17608</td>\n",
       "      <td>2017</td>\n",
       "    </tr>\n",
       "    <tr>\n",
       "      <th>4</th>\n",
       "      <td>2018–19</td>\n",
       "      <td>8861</td>\n",
       "      <td>18005</td>\n",
       "      <td>2018</td>\n",
       "    </tr>\n",
       "    <tr>\n",
       "      <th>5</th>\n",
       "      <td>2019–20</td>\n",
       "      <td>9073</td>\n",
       "      <td>18286</td>\n",
       "      <td>2019</td>\n",
       "    </tr>\n",
       "    <tr>\n",
       "      <th>6</th>\n",
       "      <td>2020–21</td>\n",
       "      <td>9519</td>\n",
       "      <td>18937</td>\n",
       "      <td>2020</td>\n",
       "    </tr>\n",
       "    <tr>\n",
       "      <th>7</th>\n",
       "      <td>2021–22</td>\n",
       "      <td>9834</td>\n",
       "      <td>19252</td>\n",
       "      <td>2021</td>\n",
       "    </tr>\n",
       "    <tr>\n",
       "      <th>8</th>\n",
       "      <td>2022–23</td>\n",
       "      <td>10224</td>\n",
       "      <td>19642</td>\n",
       "      <td>2022</td>\n",
       "    </tr>\n",
       "    <tr>\n",
       "      <th>9</th>\n",
       "      <td>2023–24</td>\n",
       "      <td>11188</td>\n",
       "      <td>20606</td>\n",
       "      <td>2023</td>\n",
       "    </tr>\n",
       "  </tbody>\n",
       "</table>\n",
       "</div>"
      ],
      "text/plain": [
       "  Academic Year  In-State Tuition  Out-of-State Tuition  Year\n",
       "0       2014–15              8730                 16910  2014\n",
       "1       2015–16              8730                 17098  2015\n",
       "2       2016–17              8730                 17350  2016\n",
       "3       2017–18              8730                 17608  2017\n",
       "4       2018–19              8861                 18005  2018\n",
       "5       2019–20              9073                 18286  2019\n",
       "6       2020–21              9519                 18937  2020\n",
       "7       2021–22              9834                 19252  2021\n",
       "8       2022–23             10224                 19642  2022\n",
       "9       2023–24             11188                 20606  2023"
      ]
     },
     "execution_count": 29,
     "metadata": {},
     "output_type": "execute_result"
    }
   ],
   "source": [
    "df['Year'] = df['Academic Year'].str[:4].astype(int)\n",
    "df"
   ]
  },
  {
   "cell_type": "code",
   "execution_count": 31,
   "id": "1ce28525-6ffc-4b98-bb33-9eca12bcd7b6",
   "metadata": {},
   "outputs": [],
   "source": [
    "x=df[['Year']]\n",
    "y_in=df['In-State Tuition']\n",
    "y_out=df['Out-of-State Tuition']"
   ]
  },
  {
   "cell_type": "code",
   "execution_count": 33,
   "id": "5b4a8993-ca5f-4375-87f5-501d5b367ab7",
   "metadata": {},
   "outputs": [],
   "source": [
    "model_in=LinearRegression().fit(x,y_in)\n",
    "model_out=LinearRegression().fit(x,y_out)"
   ]
  },
  {
   "cell_type": "code",
   "execution_count": 35,
   "id": "a655511e-f9e8-4bd1-8f2b-6dd4830825f5",
   "metadata": {
    "scrolled": true
   },
   "outputs": [
    {
     "data": {
      "text/html": [
       "<div>\n",
       "<style scoped>\n",
       "    .dataframe tbody tr th:only-of-type {\n",
       "        vertical-align: middle;\n",
       "    }\n",
       "\n",
       "    .dataframe tbody tr th {\n",
       "        vertical-align: top;\n",
       "    }\n",
       "\n",
       "    .dataframe thead th {\n",
       "        text-align: right;\n",
       "    }\n",
       "</style>\n",
       "<table border=\"1\" class=\"dataframe\">\n",
       "  <thead>\n",
       "    <tr style=\"text-align: right;\">\n",
       "      <th></th>\n",
       "      <th>Year</th>\n",
       "    </tr>\n",
       "  </thead>\n",
       "  <tbody>\n",
       "    <tr>\n",
       "      <th>0</th>\n",
       "      <td>2024</td>\n",
       "    </tr>\n",
       "  </tbody>\n",
       "</table>\n",
       "</div>"
      ],
      "text/plain": [
       "   Year\n",
       "0  2024"
      ]
     },
     "execution_count": 35,
     "metadata": {},
     "output_type": "execute_result"
    }
   ],
   "source": [
    "future_year = pd.DataFrame({'Year': [2024]})\n",
    "future_year\n",
    "\n"
   ]
  },
  {
   "cell_type": "code",
   "execution_count": 37,
   "id": "a6fa17b6-228f-47a0-a5d4-8401d4171573",
   "metadata": {},
   "outputs": [],
   "source": [
    "pred_out=model_out.predict(future_year)[0]\n",
    "pred_in=model_in.predict(future_year)[0]"
   ]
  },
  {
   "cell_type": "code",
   "execution_count": 39,
   "id": "c2a503ca-207d-4f11-a68a-5feb63a72711",
   "metadata": {
    "scrolled": true
   },
   "outputs": [
    {
     "name": "stdout",
     "output_type": "stream",
     "text": [
      "Predicted In-State Tuition for 2024–25: $20,531.07\n"
     ]
    }
   ],
   "source": [
    "print(f\"Predicted In-State Tuition for 2024–25: ${pred_out:,.2f}\")\n"
   ]
  },
  {
   "cell_type": "code",
   "execution_count": 41,
   "id": "09977d63-8e25-458c-a790-ffd520eacea5",
   "metadata": {},
   "outputs": [
    {
     "name": "stderr",
     "output_type": "stream",
     "text": [
      "E:\\anaconda\\Lib\\site-packages\\sklearn\\base.py:493: UserWarning: X does not have valid feature names, but LinearRegression was fitted with feature names\n",
      "  warnings.warn(\n"
     ]
    },
    {
     "data": {
      "text/plain": [
       "array([20531.06666667])"
      ]
     },
     "execution_count": 41,
     "metadata": {},
     "output_type": "execute_result"
    }
   ],
   "source": [
    "model_out.predict([[2024]])"
   ]
  },
  {
   "cell_type": "code",
   "execution_count": 43,
   "id": "19e39f30-904a-4f7f-8e6d-c9d25d7781d7",
   "metadata": {},
   "outputs": [
    {
     "data": {
      "image/png": "[encoded data removed]",
      "text/plain": [
       "<Figure size 1000x500 with 1 Axes>"
      ]
     },
     "metadata": {},
     "output_type": "display_data"
    }
   ],
   "source": [
    "plt.figure(figsize=(10, 5))\n",
    "plt.plot(df['Year'], y_in, label='In-State Tuition', marker='o')\n",
    "plt.plot(df['Year'], y_out, label='Out-of-State Tuition', marker='o')\n",
    "plt.axvline(x=2024, color='gray', linestyle='--')\n",
    "plt.scatter(2024, pred_in, color='blue', label='Predicted In-State')\n",
    "plt.scatter(2024, pred_out, color='orange', label='Predicted Out-of-State')\n",
    "plt.title(\"Tuition Trend & 2024 Prediction\")\n",
    "plt.xlabel(\"Year\")\n",
    "plt.ylabel(\"Tuition ($)\")\n",
    "plt.legend()\n",
    "plt.grid(True)\n",
    "plt.show()"
   ]
  },
  {
   "cell_type": "code",
   "execution_count": null,
   "id": "f661f016-fd32-41b9-870a-cefeb8c83773",
   "metadata": {},
   "outputs": [],
   "source": []
  },
  {
   "cell_type": "code",
   "execution_count": null,
   "id": "1b9c7bf6-d794-4119-ba33-fccf54b51531",
   "metadata": {},
   "outputs": [],
   "source": []
  }
 ],
 "metadata": {
  "kernelspec": {
   "display_name": "Python [conda env:base] *",
   "language": "python",
   "name": "conda-base-py"
  },
  "language_info": {
   "codemirror_mode": {
    "name": "ipython",
    "version": 3
   },
   "file_extension": ".py",
   "mimetype": "text/x-python",
   "name": "python",
   "nbconvert_exporter": "python",
   "pygments_lexer": "ipython3",
   "version": "3.12.7"
  }
 },
 "nbformat": 4,
 "nbformat_minor": 5
}
